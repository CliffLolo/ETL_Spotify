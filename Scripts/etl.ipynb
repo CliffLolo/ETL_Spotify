{
 "cells": [
  {
   "cell_type": "code",
   "execution_count": 1,
   "id": "c8cf6603",
   "metadata": {},
   "outputs": [],
   "source": [
    "#importing necessary libraries\n",
    "import requests\n",
    "import json\n",
    "import pandas as pd\n",
    "import datetime\n",
    "from decouple import config"
   ]
  },
  {
   "cell_type": "code",
   "execution_count": 3,
   "id": "67afe804",
   "metadata": {},
   "outputs": [],
   "source": [
    "def data_validation(df):\n",
    "    #checking if the dataframe is empty\n",
    "    if df.empty:\n",
    "        print('Yikes, No songs were downloaded')\n",
    "\n",
    "    #checking if there are duplicates\n",
    "    if pd.Series(df['played_at']).is_unique:\n",
    "        pass\n",
    "    else:\n",
    "        raise Exception(\"Yikes Primary Key check violated\")\n",
    "\n",
    "    #checking for nulls\n",
    "    if df.isnull().values.any():\n",
    "        raise Exception(\"Yike!!! Found Null values\")\n",
    "    \n",
    "    return True"
   ]
  },
  {
   "cell_type": "code",
   "execution_count": 4,
   "id": "79675609",
   "metadata": {},
   "outputs": [],
   "source": [
    "headers = {\n",
    "    \"Accept\": \"application/json\",\n",
    "    \"Content-Type\": \"application/json\",\n",
    "    \"Authorization\": f\"Bearer {config('TOKEN')}\"\n",
    "}"
   ]
  },
  {
   "cell_type": "code",
   "execution_count": 5,
   "id": "c6ee09ac",
   "metadata": {},
   "outputs": [
    {
     "name": "stdout",
     "output_type": "stream",
     "text": [
      "today: 2021-07-03 23:14:42.322982\n"
     ]
    }
   ],
   "source": [
    "#getting today's date\n",
    "today = datetime.datetime.now()\n",
    "print(\"today:\",today)"
   ]
  },
  {
   "cell_type": "code",
   "execution_count": 7,
   "id": "d2896dc3",
   "metadata": {},
   "outputs": [
    {
     "name": "stdout",
     "output_type": "stream",
     "text": [
      "last_month 2021-06-03 23:14:42.322982\n"
     ]
    }
   ],
   "source": [
    "#getting last month's date\n",
    "last_month = today - datetime.timedelta(days=30)\n",
    "print(\"last_month\",last_month)"
   ]
  },
  {
   "cell_type": "code",
   "execution_count": 8,
   "id": "3689a32d",
   "metadata": {},
   "outputs": [
    {
     "name": "stdout",
     "output_type": "stream",
     "text": [
      "last_month_Unix 1622762082000\n",
      "last_month_Replace: 2021-06-03 00:00:00\n"
     ]
    }
   ],
   "source": [
    "#converting last month's date to unix time stamp\n",
    "last_month_unix_timestamp = int(last_month.timestamp()) * 1000\n",
    "print(\"last_month_Unix\",last_month_unix_timestamp)\n",
    "\n",
    "last_month_replace = last_month.replace(hour = 0, minute = 0, second = 0, microsecond = 0)\n",
    "print(\"last_month_Replace:\",last_month_replace)"
   ]
  },
  {
   "cell_type": "code",
   "execution_count": null,
   "id": "b7157346",
   "metadata": {},
   "outputs": [],
   "source": []
  }
 ],
 "metadata": {
  "kernelspec": {
   "display_name": "Python 3",
   "language": "python",
   "name": "python3"
  },
  "language_info": {
   "codemirror_mode": {
    "name": "ipython",
    "version": 3
   },
   "file_extension": ".py",
   "mimetype": "text/x-python",
   "name": "python",
   "nbconvert_exporter": "python",
   "pygments_lexer": "ipython3",
   "version": "3.9.2"
  }
 },
 "nbformat": 4,
 "nbformat_minor": 5
}
