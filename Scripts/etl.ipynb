{
 "cells": [
  {
   "cell_type": "code",
   "execution_count": 1,
   "id": "618e5a13",
   "metadata": {},
   "outputs": [],
   "source": [
    "#importing necessary libraries\n",
    "import requests\n",
    "import json\n",
    "import pandas as pd\n",
    "from matplotlib import pyplot as plt\n",
    "import datetime\n",
    "from decouple import config\n",
    "from collections import Counter "
   ]
  },
  {
   "cell_type": "code",
   "execution_count": 2,
   "id": "2f912c61",
   "metadata": {},
   "outputs": [],
   "source": [
    "def data_validation(df):\n",
    "    #checking if the dataframe is empty\n",
    "    if df.empty:\n",
    "        print('Yikes, No songs were downloaded')\n",
    "\n",
    "    #checking if there are duplicates\n",
    "    if pd.Series(df['played_at']).is_unique:\n",
    "        pass\n",
    "    else:\n",
    "        raise Exception(\"Yikes Primary Key check violated\")\n",
    "\n",
    "    #checking for nulls\n",
    "    if df.isnull().values.any():\n",
    "        raise Exception(\"Yike!!! Found Null values\")\n",
    "    \n",
    "    return True\n",
    "\n",
    "\n",
    "def frequencies(column_name):\n",
    "    \n",
    "    print(Counter(songs_df[column_name].values))\n",
    "    print(dict(Counter(songs_df[column_name].values).most_common(5)))\n",
    "    \n",
    "    bar_plot = dict(Counter(songs_df[column_name].values).most_common(5))\n",
    "    \n",
    "    plt.bar(*zip(*bar_plot.items()))\n",
    "    plt.show()"
   ]
  },
  {
   "cell_type": "code",
   "execution_count": 3,
   "id": "882a3d4f",
   "metadata": {},
   "outputs": [],
   "source": [
    "headers = {\n",
    "    \"Accept\": \"application/json\",\n",
    "    \"Content-Type\": \"application/json\",\n",
    "    \"Authorization\": f\"Bearer {config('TOKEN')}\"\n",
    "}"
   ]
  },
  {
   "cell_type": "code",
   "execution_count": 4,
   "id": "fd8111a4",
   "metadata": {},
   "outputs": [
    {
     "name": "stdout",
     "output_type": "stream",
     "text": [
      "today: 2021-07-06 04:05:54.141984\n"
     ]
    }
   ],
   "source": [
    "#getting today's date\n",
    "today = datetime.datetime.now()\n",
    "print(\"today:\",today)"
   ]
  },
  {
   "cell_type": "code",
   "execution_count": 5,
   "id": "cd967b97",
   "metadata": {},
   "outputs": [
    {
     "name": "stdout",
     "output_type": "stream",
     "text": [
      "last_month 2020-09-09 04:05:54.141984\n"
     ]
    }
   ],
   "source": [
    "#getting last month's date\n",
    "last_month = today - datetime.timedelta(days=300)\n",
    "print(\"last_month\",last_month)"
   ]
  },
  {
   "cell_type": "code",
   "execution_count": 6,
   "id": "228e0fa1",
   "metadata": {},
   "outputs": [
    {
     "name": "stdout",
     "output_type": "stream",
     "text": [
      "last_month_Unix 1599624354000\n",
      "last_month_Replace: 2020-09-09 00:00:00\n"
     ]
    }
   ],
   "source": [
    "#converting last month's date to unix time stamp\n",
    "last_month_unix_timestamp = int(last_month.timestamp()) * 1000\n",
    "print(\"last_month_Unix\",last_month_unix_timestamp)\n",
    "\n",
    "last_month_replace = last_month.replace(hour = 0, minute = 0, second = 0, microsecond = 0)\n",
    "print(\"last_month_Replace:\",last_month_replace)"
   ]
  },
  {
   "cell_type": "code",
   "execution_count": null,
   "id": "78bef555",
   "metadata": {},
   "outputs": [],
   "source": [
    "url = f\"https://api.spotify.com/v1/me/player/recently-played?after={last_month_unix_timestamp}\"\n",
    "r = requests.get(url, headers = headers)"
   ]
  },
  {
   "cell_type": "code",
   "execution_count": null,
   "id": "94c11cd4",
   "metadata": {},
   "outputs": [],
   "source": [
    "data = r.json()\n",
    "data"
   ]
  },
  {
   "cell_type": "code",
   "execution_count": null,
   "id": "aacf0d3c",
   "metadata": {},
   "outputs": [],
   "source": [
    "song_names = []\n",
    "artist_name = []\n",
    "played_at_list = []\n",
    "timestamps = []\n",
    "\n",
    "for song in data[\"items\"]:\n",
    "    song_names.append(song['track']['name'])\n",
    "    artist_name.append(song['track']['album']['artists'][0]['name'])\n",
    "    played_at_list.append(song['played_at'])\n",
    "    timestamps.append(song['played_at'][0:10])"
   ]
  },
  {
   "cell_type": "code",
   "execution_count": null,
   "id": "7cdea6c9",
   "metadata": {},
   "outputs": [],
   "source": [
    "songs_dict = {\n",
    "    \"song_names\":song_names,\n",
    "    \"artist_name\":artist_name,\n",
    "    \"played_at\":played_at_list,\n",
    "    \"timestamp\":timestamps\n",
    "}\n",
    "songs_df = pd.DataFrame(songs_dict)\n",
    "print(songs_df)"
   ]
  },
  {
   "cell_type": "code",
   "execution_count": null,
   "id": "fdb08889",
   "metadata": {},
   "outputs": [],
   "source": [
    "if data_validation(songs_df):\n",
    "    print(\"Data Validation Passed!\")"
   ]
  },
  {
   "cell_type": "code",
   "execution_count": null,
   "id": "254f5084",
   "metadata": {},
   "outputs": [],
   "source": [
    "# viewing the number of rows and columns\n",
    "songs_df.shape"
   ]
  },
  {
   "cell_type": "code",
   "execution_count": null,
   "id": "c3bb0591",
   "metadata": {
    "scrolled": true
   },
   "outputs": [],
   "source": [
    "#viewing summary of a DataFrame\n",
    "songs_df.info()"
   ]
  },
  {
   "cell_type": "code",
   "execution_count": null,
   "id": "3feb9868",
   "metadata": {},
   "outputs": [],
   "source": [
    "#viewing some basic statistical details\n",
    "songs_df.describe()"
   ]
  },
  {
   "cell_type": "code",
   "execution_count": null,
   "id": "3f19a88a",
   "metadata": {
    "scrolled": true
   },
   "outputs": [],
   "source": [
    "#returning the first 2 rows of the dataframe\n",
    "songs_df.head()"
   ]
  },
  {
   "cell_type": "markdown",
   "id": "aa45e529",
   "metadata": {},
   "source": [
    "## Which 5 songs did I listen to frequently?"
   ]
  },
  {
   "cell_type": "code",
   "execution_count": null,
   "id": "1d4f5393",
   "metadata": {},
   "outputs": [],
   "source": [
    "frequencies('song_names')"
   ]
  },
  {
   "cell_type": "markdown",
   "id": "72470afb",
   "metadata": {},
   "source": [
    "## Who are the top 5 artistes I listened to?"
   ]
  },
  {
   "cell_type": "code",
   "execution_count": null,
   "id": "2bf67d0a",
   "metadata": {},
   "outputs": [],
   "source": [
    "frequencies('artist_name')"
   ]
  },
  {
   "cell_type": "markdown",
   "id": "dea0081a",
   "metadata": {},
   "source": [
    "## How many songs did I listen to at each period of time in the day?"
   ]
  },
  {
   "cell_type": "code",
   "execution_count": null,
   "id": "e94d43a4",
   "metadata": {},
   "outputs": [],
   "source": [
    "#converting played_at column to a datetime object\n",
    "songs_df['played_at']=pd.to_datetime(songs_df['played_at'])\n",
    "\n",
    "#creating a new column, period\n",
    "songs_df['period'] = (songs_df['played_at'].dt.hour % 24 + 4) // 4\n",
    "songs_df['period'].replace({1: 'Late Night',\n",
    "                      2: 'Early Morning',\n",
    "                      3: 'Morning',\n",
    "                      4: 'Noon',\n",
    "                      5: 'Evening',\n",
    "                      6: 'Night'}, inplace=True)"
   ]
  },
  {
   "cell_type": "code",
   "execution_count": null,
   "id": "9c77c9a7",
   "metadata": {},
   "outputs": [],
   "source": [
    "songs_df"
   ]
  },
  {
   "cell_type": "code",
   "execution_count": null,
   "id": "8ac0d736",
   "metadata": {},
   "outputs": [],
   "source": [
    "frequencies('period')"
   ]
  },
  {
   "cell_type": "code",
   "execution_count": null,
   "id": "d00d1ba4",
   "metadata": {},
   "outputs": [],
   "source": []
  }
 ],
 "metadata": {
  "kernelspec": {
   "display_name": "Python 3",
   "language": "python",
   "name": "python3"
  },
  "language_info": {
   "codemirror_mode": {
    "name": "ipython",
    "version": 3
   },
   "file_extension": ".py",
   "mimetype": "text/x-python",
   "name": "python",
   "nbconvert_exporter": "python",
   "pygments_lexer": "ipython3",
   "version": "3.9.2"
  }
 },
 "nbformat": 4,
 "nbformat_minor": 5
}
