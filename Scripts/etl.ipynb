{
 "cells": [
  {
   "cell_type": "code",
   "execution_count": 19,
   "id": "618e5a13",
   "metadata": {},
   "outputs": [],
   "source": [
    "#importing necessary libraries\n",
    "import requests\n",
    "import json\n",
    "import pandas as pd\n",
    "from matplotlib import pyplot as plt\n",
    "import datetime\n",
    "from decouple import config\n",
    "from collections import Counter\n",
    "import sqlalchemy\n",
    "import sqlite3"
   ]
  },
  {
   "cell_type": "code",
   "execution_count": 20,
   "id": "2f912c61",
   "metadata": {},
   "outputs": [],
   "source": [
    "def data_validation(df):\n",
    "    #checking if the dataframe is empty\n",
    "    if df.empty:\n",
    "        print('Yikes, No songs were downloaded')\n",
    "\n",
    "    #checking if there are duplicates\n",
    "    if pd.Series(df['played_at']).is_unique:\n",
    "        pass\n",
    "    else:\n",
    "        raise Exception(\"Yikes Primary Key check violated\")\n",
    "\n",
    "    #checking for nulls\n",
    "    if df.isnull().values.any():\n",
    "        raise Exception(\"Yike!!! Found Null values\")\n",
    "    \n",
    "    return True\n",
    "\n",
    "\n",
    "# def frequencies(column_name):\n",
    "    \n",
    "#     print(Counter(songs_df[column_name].values))\n",
    "#     print(dict(Counter(songs_df[column_name].values).most_common(5)))\n",
    "    \n",
    "#     bar_plot = dict(Counter(songs_df[column_name].values).most_common(5))\n",
    "    \n",
    "#     plt.bar(*zip(*bar_plot.items()))\n",
    "#     plt.show()\n",
    "    \n",
    "    \n",
    "# plt.title('My title')\n",
    "# plt.xlabel('categories')\n",
    "# plt.ylabel('values')"
   ]
  },
  {
   "cell_type": "code",
   "execution_count": 21,
   "id": "882a3d4f",
   "metadata": {},
   "outputs": [],
   "source": [
    "headers = {\n",
    "    \"Accept\": \"application/json\",\n",
    "    \"Content-Type\": \"application/json\",\n",
    "    \"Authorization\": f\"Bearer {config('TOKEN')}\"\n",
    "}"
   ]
  },
  {
   "cell_type": "code",
   "execution_count": 22,
   "id": "fd8111a4",
   "metadata": {},
   "outputs": [
    {
     "name": "stdout",
     "output_type": "stream",
     "text": [
      "today: 2021-07-08 11:32:29.536587\n"
     ]
    }
   ],
   "source": [
    "#getting today's date\n",
    "today = datetime.datetime.now()\n",
    "print(\"today:\",today)"
   ]
  },
  {
   "cell_type": "code",
   "execution_count": 23,
   "id": "cd967b97",
   "metadata": {},
   "outputs": [
    {
     "name": "stdout",
     "output_type": "stream",
     "text": [
      "last_month 2020-09-11 11:32:29.536587\n"
     ]
    }
   ],
   "source": [
    "#getting last month's date\n",
    "last_month = today - datetime.timedelta(days=300)\n",
    "print(\"last_month\",last_month)"
   ]
  },
  {
   "cell_type": "code",
   "execution_count": 24,
   "id": "228e0fa1",
   "metadata": {},
   "outputs": [
    {
     "name": "stdout",
     "output_type": "stream",
     "text": [
      "last_month_Unix 1599823949000\n",
      "last_month_Replace: 2020-09-11 00:00:00\n"
     ]
    }
   ],
   "source": [
    "#converting last month's date to unix time stamp\n",
    "last_month_unix_timestamp = int(last_month.timestamp()) * 1000\n",
    "print(\"last_month_Unix\",last_month_unix_timestamp)\n",
    "\n",
    "last_month_replace = last_month.replace(hour = 0, minute = 0, second = 0, microsecond = 0)\n",
    "print(\"last_month_Replace:\",last_month_replace)"
   ]
  },
  {
   "cell_type": "code",
   "execution_count": 25,
   "id": "78bef555",
   "metadata": {},
   "outputs": [],
   "source": [
    "url = f\"https://api.spotify.com/v1/me/player/recently-played?after={last_month_unix_timestamp}\"\n",
    "r = requests.get(url, headers = headers)"
   ]
  },
  {
   "cell_type": "code",
   "execution_count": 49,
   "id": "94c11cd4",
   "metadata": {},
   "outputs": [],
   "source": [
    "data = r.json()"
   ]
  },
  {
   "cell_type": "code",
   "execution_count": 50,
   "id": "aacf0d3c",
   "metadata": {},
   "outputs": [],
   "source": [
    "song_names = []\n",
    "artiste_name = []\n",
    "played_at_list = []\n",
    "timestamps = []\n",
    "\n",
    "for song in data[\"items\"]:\n",
    "    song_names.append(song['track']['name'])\n",
    "    artiste_name.append(song['track']['album']['artists'][0]['name'])\n",
    "    played_at_list.append(song['played_at'])\n",
    "    timestamps.append(song['played_at'][0:10])"
   ]
  },
  {
   "cell_type": "code",
   "execution_count": 51,
   "id": "7cdea6c9",
   "metadata": {},
   "outputs": [
    {
     "name": "stdout",
     "output_type": "stream",
     "text": [
      "                              song_names  artiste_name  \\\n",
      "0                             goosebumps  Travis Scott   \n",
      "1                 through the late night  Travis Scott   \n",
      "2                             coordinate  Travis Scott   \n",
      "3                               way back  Travis Scott   \n",
      "4                               the ends  Travis Scott   \n",
      "5                          In the Garden    Jim Reeves   \n",
      "6                   Teach Me How to Pray    Jim Reeves   \n",
      "7                        Whispering Hope    Jim Reeves   \n",
      "8                      Across the Bridge    Jim Reeves   \n",
      "9                       A Beautiful Life    Jim Reeves   \n",
      "10                 I'd Rather Have Jesus    Jim Reeves   \n",
      "11            Where We'll Never Grow Old    Jim Reeves   \n",
      "12                         I'll Fly Away    Jim Reeves   \n",
      "13  May the Good Lord Bless and Keep You    Jim Reeves   \n",
      "14                       The Night Watch    Jim Reeves   \n",
      "15                       Scarlet Ribbons    Jim Reeves   \n",
      "16           The Padre of Old San Antone    Jim Reeves   \n",
      "17        An Evening Prayer - Remastered    Jim Reeves   \n",
      "18                     Precious Memories    Jim Reeves   \n",
      "19           Take My Hand, Precious Lord    Jim Reeves   \n",
      "\n",
      "                   played_at   timestamp  \n",
      "0   2021-06-06T15:27:17.991Z  2021-06-06  \n",
      "1   2021-06-06T15:12:53.316Z  2021-06-06  \n",
      "2   2021-06-06T15:07:25.009Z  2021-06-06  \n",
      "3   2021-06-06T15:03:38.695Z  2021-06-06  \n",
      "4   2021-06-06T14:58:11.543Z  2021-06-06  \n",
      "5   2021-06-05T06:33:23.554Z  2021-06-05  \n",
      "6   2021-06-05T06:33:00.024Z  2021-06-05  \n",
      "7   2021-06-05T06:31:21.017Z  2021-06-05  \n",
      "8   2021-06-05T06:28:17.567Z  2021-06-05  \n",
      "9   2021-06-05T06:26:10.867Z  2021-06-05  \n",
      "10  2021-06-05T06:23:57.726Z  2021-06-05  \n",
      "11  2021-06-05T06:21:13.515Z  2021-06-05  \n",
      "12  2021-06-05T06:18:53.365Z  2021-06-05  \n",
      "13  2021-06-05T06:16:20.868Z  2021-06-05  \n",
      "14  2021-06-05T06:13:45.330Z  2021-06-05  \n",
      "15  2021-06-05T06:11:23.522Z  2021-06-05  \n",
      "16  2021-06-05T06:09:04.377Z  2021-06-05  \n",
      "17  2021-06-05T06:07:01.802Z  2021-06-05  \n",
      "18  2021-06-05T06:04:29.522Z  2021-06-05  \n",
      "19  2021-06-05T06:01:46.803Z  2021-06-05  \n"
     ]
    }
   ],
   "source": [
    "songs_dict = {\n",
    "    \"song_names\":song_names,\n",
    "    \"artiste_name\":artiste_name,\n",
    "    \"played_at\":played_at_list,\n",
    "    \"timestamp\":timestamps\n",
    "}\n",
    "songs_df = pd.DataFrame(songs_dict)\n",
    "print(songs_df)"
   ]
  },
  {
   "cell_type": "code",
   "execution_count": 52,
   "id": "fdb08889",
   "metadata": {},
   "outputs": [
    {
     "name": "stdout",
     "output_type": "stream",
     "text": [
      "Data Validation Passed!\n"
     ]
    }
   ],
   "source": [
    "if data_validation(songs_df):\n",
    "    print(\"Data Validation Passed!\")"
   ]
  },
  {
   "cell_type": "code",
   "execution_count": 53,
   "id": "5e8270d7",
   "metadata": {},
   "outputs": [
    {
     "data": {
      "text/plain": [
       "(20, 4)"
      ]
     },
     "execution_count": 53,
     "metadata": {},
     "output_type": "execute_result"
    }
   ],
   "source": [
    "# viewing the number of rows and columns\n",
    "songs_df.shape"
   ]
  },
  {
   "cell_type": "code",
   "execution_count": 54,
   "id": "c9ef11e2",
   "metadata": {
    "scrolled": true
   },
   "outputs": [
    {
     "name": "stdout",
     "output_type": "stream",
     "text": [
      "<class 'pandas.core.frame.DataFrame'>\n",
      "RangeIndex: 20 entries, 0 to 19\n",
      "Data columns (total 4 columns):\n",
      " #   Column        Non-Null Count  Dtype \n",
      "---  ------        --------------  ----- \n",
      " 0   song_names    20 non-null     object\n",
      " 1   artiste_name  20 non-null     object\n",
      " 2   played_at     20 non-null     object\n",
      " 3   timestamp     20 non-null     object\n",
      "dtypes: object(4)\n",
      "memory usage: 768.0+ bytes\n"
     ]
    }
   ],
   "source": [
    "#viewing summary of a DataFrame\n",
    "songs_df.info()"
   ]
  },
  {
   "cell_type": "code",
   "execution_count": 55,
   "id": "319bf248",
   "metadata": {},
   "outputs": [
    {
     "data": {
      "text/html": [
       "<div>\n",
       "<style scoped>\n",
       "    .dataframe tbody tr th:only-of-type {\n",
       "        vertical-align: middle;\n",
       "    }\n",
       "\n",
       "    .dataframe tbody tr th {\n",
       "        vertical-align: top;\n",
       "    }\n",
       "\n",
       "    .dataframe thead th {\n",
       "        text-align: right;\n",
       "    }\n",
       "</style>\n",
       "<table border=\"1\" class=\"dataframe\">\n",
       "  <thead>\n",
       "    <tr style=\"text-align: right;\">\n",
       "      <th></th>\n",
       "      <th>song_names</th>\n",
       "      <th>artiste_name</th>\n",
       "      <th>played_at</th>\n",
       "      <th>timestamp</th>\n",
       "    </tr>\n",
       "  </thead>\n",
       "  <tbody>\n",
       "    <tr>\n",
       "      <th>count</th>\n",
       "      <td>20</td>\n",
       "      <td>20</td>\n",
       "      <td>20</td>\n",
       "      <td>20</td>\n",
       "    </tr>\n",
       "    <tr>\n",
       "      <th>unique</th>\n",
       "      <td>20</td>\n",
       "      <td>2</td>\n",
       "      <td>20</td>\n",
       "      <td>2</td>\n",
       "    </tr>\n",
       "    <tr>\n",
       "      <th>top</th>\n",
       "      <td>The Night Watch</td>\n",
       "      <td>Jim Reeves</td>\n",
       "      <td>2021-06-05T06:23:57.726Z</td>\n",
       "      <td>2021-06-05</td>\n",
       "    </tr>\n",
       "    <tr>\n",
       "      <th>freq</th>\n",
       "      <td>1</td>\n",
       "      <td>15</td>\n",
       "      <td>1</td>\n",
       "      <td>15</td>\n",
       "    </tr>\n",
       "  </tbody>\n",
       "</table>\n",
       "</div>"
      ],
      "text/plain": [
       "             song_names artiste_name                 played_at   timestamp\n",
       "count                20           20                        20          20\n",
       "unique               20            2                        20           2\n",
       "top     The Night Watch   Jim Reeves  2021-06-05T06:23:57.726Z  2021-06-05\n",
       "freq                  1           15                         1          15"
      ]
     },
     "execution_count": 55,
     "metadata": {},
     "output_type": "execute_result"
    }
   ],
   "source": [
    "#viewing some basic statistical details\n",
    "songs_df.describe()"
   ]
  },
  {
   "cell_type": "code",
   "execution_count": 56,
   "id": "3f19a88a",
   "metadata": {
    "scrolled": true
   },
   "outputs": [
    {
     "data": {
      "text/html": [
       "<div>\n",
       "<style scoped>\n",
       "    .dataframe tbody tr th:only-of-type {\n",
       "        vertical-align: middle;\n",
       "    }\n",
       "\n",
       "    .dataframe tbody tr th {\n",
       "        vertical-align: top;\n",
       "    }\n",
       "\n",
       "    .dataframe thead th {\n",
       "        text-align: right;\n",
       "    }\n",
       "</style>\n",
       "<table border=\"1\" class=\"dataframe\">\n",
       "  <thead>\n",
       "    <tr style=\"text-align: right;\">\n",
       "      <th></th>\n",
       "      <th>song_names</th>\n",
       "      <th>artiste_name</th>\n",
       "      <th>played_at</th>\n",
       "      <th>timestamp</th>\n",
       "    </tr>\n",
       "  </thead>\n",
       "  <tbody>\n",
       "    <tr>\n",
       "      <th>0</th>\n",
       "      <td>goosebumps</td>\n",
       "      <td>Travis Scott</td>\n",
       "      <td>2021-06-06T15:27:17.991Z</td>\n",
       "      <td>2021-06-06</td>\n",
       "    </tr>\n",
       "    <tr>\n",
       "      <th>1</th>\n",
       "      <td>through the late night</td>\n",
       "      <td>Travis Scott</td>\n",
       "      <td>2021-06-06T15:12:53.316Z</td>\n",
       "      <td>2021-06-06</td>\n",
       "    </tr>\n",
       "    <tr>\n",
       "      <th>2</th>\n",
       "      <td>coordinate</td>\n",
       "      <td>Travis Scott</td>\n",
       "      <td>2021-06-06T15:07:25.009Z</td>\n",
       "      <td>2021-06-06</td>\n",
       "    </tr>\n",
       "    <tr>\n",
       "      <th>3</th>\n",
       "      <td>way back</td>\n",
       "      <td>Travis Scott</td>\n",
       "      <td>2021-06-06T15:03:38.695Z</td>\n",
       "      <td>2021-06-06</td>\n",
       "    </tr>\n",
       "    <tr>\n",
       "      <th>4</th>\n",
       "      <td>the ends</td>\n",
       "      <td>Travis Scott</td>\n",
       "      <td>2021-06-06T14:58:11.543Z</td>\n",
       "      <td>2021-06-06</td>\n",
       "    </tr>\n",
       "  </tbody>\n",
       "</table>\n",
       "</div>"
      ],
      "text/plain": [
       "               song_names  artiste_name                 played_at   timestamp\n",
       "0              goosebumps  Travis Scott  2021-06-06T15:27:17.991Z  2021-06-06\n",
       "1  through the late night  Travis Scott  2021-06-06T15:12:53.316Z  2021-06-06\n",
       "2              coordinate  Travis Scott  2021-06-06T15:07:25.009Z  2021-06-06\n",
       "3                way back  Travis Scott  2021-06-06T15:03:38.695Z  2021-06-06\n",
       "4                the ends  Travis Scott  2021-06-06T14:58:11.543Z  2021-06-06"
      ]
     },
     "execution_count": 56,
     "metadata": {},
     "output_type": "execute_result"
    }
   ],
   "source": [
    "#returning the first 2 rows of the dataframe\n",
    "songs_df.head()"
   ]
  },
  {
   "cell_type": "markdown",
   "id": "8d4c86ff",
   "metadata": {},
   "source": [
    "## Which 5 songs did I listen to frequently?"
   ]
  },
  {
   "cell_type": "code",
   "execution_count": 57,
   "id": "93039eb3",
   "metadata": {},
   "outputs": [
    {
     "name": "stdout",
     "output_type": "stream",
     "text": [
      "[('goosebumps', 1), ('through the late night', 1), ('coordinate', 1), ('way back', 1), ('the ends', 1)]\n"
     ]
    }
   ],
   "source": [
    "print(Counter(songs_df['song_names'].values).most_common(5))"
   ]
  },
  {
   "cell_type": "code",
   "execution_count": 58,
   "id": "745d3f34",
   "metadata": {},
   "outputs": [
    {
     "data": {
      "image/png": "[encoded data removed]",
      "text/plain": [
       "<Figure size 432x288 with 1 Axes>"
      ]
     },
     "metadata": {
      "needs_background": "light"
     },
     "output_type": "display_data"
    }
   ],
   "source": [
    "bar_plot = dict(Counter(songs_df['song_names'].values).most_common(5))\n",
    "plt.bar(*zip(*bar_plot.items()))\n",
    "\n",
    "yint = []\n",
    "locs, labels = plt.yticks()\n",
    "for each in locs:\n",
    "    yint.append(int(each))\n",
    "    \n",
    "plt.yticks(yint)\n",
    "plt.title('Top 5 songs I listened to')\n",
    "plt.xlabel('song name')\n",
    "plt.ylabel('Number of times listened to')\n",
    "\n",
    "plt.show()\n",
    "\n",
    "\n",
    "\n",
    "\n",
    "\n",
    "# make the y ticks integers, not floats\n"
   ]
  },
  {
   "cell_type": "markdown",
   "id": "29fccac9",
   "metadata": {},
   "source": [
    "## Who are the top 5 artistes I listened to?"
   ]
  },
  {
   "cell_type": "code",
   "execution_count": 60,
   "id": "efb7ed47",
   "metadata": {},
   "outputs": [
    {
     "data": {
      "image/png": "[encoded data removed]",
      "text/plain": [
       "<Figure size 432x288 with 1 Axes>"
      ]
     },
     "metadata": {
      "needs_background": "light"
     },
     "output_type": "display_data"
    }
   ],
   "source": [
    "bar_plot = dict(Counter(songs_df['artiste_name'].values).most_common(5))\n",
    "plt.bar(*zip(*bar_plot.items()))\n",
    "\n",
    "yint = []\n",
    "locs, labels = plt.yticks()\n",
    "for each in locs:\n",
    "    yint.append(int(each))\n",
    "    \n",
    "plt.yticks(yint)\n",
    "plt.title('Top 5 artistes I listened to')\n",
    "plt.xlabel('Artiste name')\n",
    "plt.ylabel('Number of times listened to')\n",
    "\n",
    "plt.show()\n"
   ]
  },
  {
   "cell_type": "markdown",
   "id": "38657b2c",
   "metadata": {},
   "source": [
    "## How many songs did I listen to at each period of time in the day?"
   ]
  },
  {
   "cell_type": "code",
   "execution_count": 61,
   "id": "9ecc313a",
   "metadata": {},
   "outputs": [],
   "source": [
    "#converting played_at column to a datetime object\n",
    "songs_df['played_at']=pd.to_datetime(songs_df['played_at'])\n",
    "\n",
    "#creating a new column, period\n",
    "songs_df['period'] = (songs_df['played_at'].dt.hour % 24 + 4) // 4\n",
    "songs_df['period'].replace({1: 'Late Night',\n",
    "                      2: 'Early Morning',\n",
    "                      3: 'Morning',\n",
    "                      4: 'Noon',\n",
    "                      5: 'Evening',\n",
    "                      6: 'Night'}, inplace=True)"
   ]
  },
  {
   "cell_type": "code",
   "execution_count": 62,
   "id": "271b4564",
   "metadata": {},
   "outputs": [
    {
     "data": {
      "text/html": [
       "<div>\n",
       "<style scoped>\n",
       "    .dataframe tbody tr th:only-of-type {\n",
       "        vertical-align: middle;\n",
       "    }\n",
       "\n",
       "    .dataframe tbody tr th {\n",
       "        vertical-align: top;\n",
       "    }\n",
       "\n",
       "    .dataframe thead th {\n",
       "        text-align: right;\n",
       "    }\n",
       "</style>\n",
       "<table border=\"1\" class=\"dataframe\">\n",
       "  <thead>\n",
       "    <tr style=\"text-align: right;\">\n",
       "      <th></th>\n",
       "      <th>song_names</th>\n",
       "      <th>artiste_name</th>\n",
       "      <th>played_at</th>\n",
       "      <th>timestamp</th>\n",
       "      <th>period</th>\n",
       "    </tr>\n",
       "  </thead>\n",
       "  <tbody>\n",
       "    <tr>\n",
       "      <th>0</th>\n",
       "      <td>goosebumps</td>\n",
       "      <td>Travis Scott</td>\n",
       "      <td>2021-06-06 15:27:17.991000+00:00</td>\n",
       "      <td>2021-06-06</td>\n",
       "      <td>Noon</td>\n",
       "    </tr>\n",
       "    <tr>\n",
       "      <th>1</th>\n",
       "      <td>through the late night</td>\n",
       "      <td>Travis Scott</td>\n",
       "      <td>2021-06-06 15:12:53.316000+00:00</td>\n",
       "      <td>2021-06-06</td>\n",
       "      <td>Noon</td>\n",
       "    </tr>\n",
       "    <tr>\n",
       "      <th>2</th>\n",
       "      <td>coordinate</td>\n",
       "      <td>Travis Scott</td>\n",
       "      <td>2021-06-06 15:07:25.009000+00:00</td>\n",
       "      <td>2021-06-06</td>\n",
       "      <td>Noon</td>\n",
       "    </tr>\n",
       "    <tr>\n",
       "      <th>3</th>\n",
       "      <td>way back</td>\n",
       "      <td>Travis Scott</td>\n",
       "      <td>2021-06-06 15:03:38.695000+00:00</td>\n",
       "      <td>2021-06-06</td>\n",
       "      <td>Noon</td>\n",
       "    </tr>\n",
       "    <tr>\n",
       "      <th>4</th>\n",
       "      <td>the ends</td>\n",
       "      <td>Travis Scott</td>\n",
       "      <td>2021-06-06 14:58:11.543000+00:00</td>\n",
       "      <td>2021-06-06</td>\n",
       "      <td>Noon</td>\n",
       "    </tr>\n",
       "  </tbody>\n",
       "</table>\n",
       "</div>"
      ],
      "text/plain": [
       "               song_names  artiste_name                        played_at  \\\n",
       "0              goosebumps  Travis Scott 2021-06-06 15:27:17.991000+00:00   \n",
       "1  through the late night  Travis Scott 2021-06-06 15:12:53.316000+00:00   \n",
       "2              coordinate  Travis Scott 2021-06-06 15:07:25.009000+00:00   \n",
       "3                way back  Travis Scott 2021-06-06 15:03:38.695000+00:00   \n",
       "4                the ends  Travis Scott 2021-06-06 14:58:11.543000+00:00   \n",
       "\n",
       "    timestamp period  \n",
       "0  2021-06-06   Noon  \n",
       "1  2021-06-06   Noon  \n",
       "2  2021-06-06   Noon  \n",
       "3  2021-06-06   Noon  \n",
       "4  2021-06-06   Noon  "
      ]
     },
     "execution_count": 62,
     "metadata": {},
     "output_type": "execute_result"
    }
   ],
   "source": [
    "songs_df.head()"
   ]
  },
  {
   "cell_type": "code",
   "execution_count": 64,
   "id": "12100ba1",
   "metadata": {},
   "outputs": [
    {
     "data": {
      "image/png": "[encoded data removed]",
      "text/plain": [
       "<Figure size 432x288 with 1 Axes>"
      ]
     },
     "metadata": {
      "needs_background": "light"
     },
     "output_type": "display_data"
    }
   ],
   "source": [
    "bar_plot = dict(Counter(songs_df['period'].values).most_common(2))\n",
    "plt.bar(*zip(*bar_plot.items()))\n",
    "\n",
    "yint = []\n",
    "locs, labels = plt.yticks()\n",
    "for each in locs:\n",
    "    yint.append(int(each))\n",
    "    \n",
    "plt.yticks(yint)\n",
    "plt.title('How many songs did I listen to at each period of time in the day?')\n",
    "plt.xlabel('Period')\n",
    "plt.ylabel('Number of songs')\n",
    "\n",
    "plt.show()\n",
    "\n"
   ]
  },
  {
   "cell_type": "code",
   "execution_count": 29,
   "id": "56d9b6e7",
   "metadata": {},
   "outputs": [
    {
     "name": "stdout",
     "output_type": "stream",
     "text": [
      "Opened database successfully\n",
      "Table created successfully\n"
     ]
    }
   ],
   "source": [
    "# creating engine and connecting to database\n",
    "engine = create_engine('sqlite:///my_songs.db') \n",
    "conn = sqlite3.connect('my_songs.db')\n",
    "\n",
    "print (\"Opened database successfully\")\n",
    "\n",
    "# creating the table with the columns\n",
    "conn.execute(\"\"\"\n",
    "CREATE TABLE IF NOT EXISTS my_songs(\n",
    "    song_name VARCHAR(200),\n",
    "    artist_name VARCHAR(200),\n",
    "    played_at VARCHAR(200),\n",
    "    timestamp VARCHAR(200),\n",
    "    period VARCHAR(20),\n",
    "    CONSTRAINT primary_key_constraint PRIMARY KEY (played_at)\n",
    ")\n",
    "\"\"\")\n",
    "print(\"Table created successfully\")\n",
    "\n",
    "conn.close()"
   ]
  },
  {
   "cell_type": "code",
   "execution_count": 30,
   "id": "b6509dd6",
   "metadata": {},
   "outputs": [],
   "source": [
    "try:\n",
    "    songs_df.to_sql('my_songs',engine,index=False, if_exists='append')\n",
    "except:\n",
    "    print(\"Ooops! Data already exists in the database \")"
   ]
  },
  {
   "cell_type": "code",
   "execution_count": null,
   "id": "3f6ad819",
   "metadata": {},
   "outputs": [],
   "source": []
  }
 ],
 "metadata": {
  "kernelspec": {
   "display_name": "Python 3",
   "language": "python",
   "name": "python3"
  },
  "language_info": {
   "codemirror_mode": {
    "name": "ipython",
    "version": 3
   },
   "file_extension": ".py",
   "mimetype": "text/x-python",
   "name": "python",
   "nbconvert_exporter": "python",
   "pygments_lexer": "ipython3",
   "version": "3.9.2"
  }
 },
 "nbformat": 4,
 "nbformat_minor": 5
}
