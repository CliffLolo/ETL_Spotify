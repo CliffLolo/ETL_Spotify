{
 "cells": [
  {
   "cell_type": "code",
   "execution_count": 1,
   "id": "01154aff",
   "metadata": {},
   "outputs": [],
   "source": [
    "#importing necessary libraries\n",
    "import requests\n",
    "import json\n",
    "import pandas as pd\n",
    "import datetime\n",
    "from decouple import config"
   ]
  },
  {
   "cell_type": "code",
   "execution_count": 3,
   "id": "30ae2b7b",
   "metadata": {},
   "outputs": [],
   "source": [
    "def data_validation(df):\n",
    "    #checking if the dataframe is empty\n",
    "    if df.empty:\n",
    "        print('Yikes, No songs were downloaded')\n",
    "\n",
    "    #checking if there are duplicates\n",
    "    if pd.Series(df['played_at']).is_unique:\n",
    "        pass\n",
    "    else:\n",
    "        raise Exception(\"Yikes Primary Key check violated\")\n",
    "\n",
    "    #checking for nulls\n",
    "    if df.isnull().values.any():\n",
    "        raise Exception(\"Yike!!! Found Null values\")\n",
    "    \n",
    "    return True"
   ]
  },
  {
   "cell_type": "code",
   "execution_count": 4,
   "id": "d0ab75ee",
   "metadata": {},
   "outputs": [],
   "source": [
    "headers = {\n",
    "    \"Accept\": \"application/json\",\n",
    "    \"Content-Type\": \"application/json\",\n",
    "    \"Authorization\": f\"Bearer {config('TOKEN')}\"\n",
    "}"
   ]
  },
  {
   "cell_type": "code",
   "execution_count": 5,
   "id": "3f1890a7",
   "metadata": {},
   "outputs": [
    {
     "name": "stdout",
     "output_type": "stream",
     "text": [
      "today: 2021-07-03 23:14:42.322982\n"
     ]
    }
   ],
   "source": [
    "#getting today's date\n",
    "today = datetime.datetime.now()\n",
    "print(\"today:\",today)"
   ]
  },
  {
   "cell_type": "code",
   "execution_count": 7,
   "id": "9fe40310",
   "metadata": {},
   "outputs": [
    {
     "name": "stdout",
     "output_type": "stream",
     "text": [
      "last_month 2021-06-03 23:14:42.322982\n"
     ]
    }
   ],
   "source": [
    "#getting last month's date\n",
    "last_month = today - datetime.timedelta(days=30)\n",
    "print(\"last_month\",last_month)"
   ]
  },
  {
   "cell_type": "code",
   "execution_count": 8,
   "id": "eb8cc2d9",
   "metadata": {},
   "outputs": [
    {
     "name": "stdout",
     "output_type": "stream",
     "text": [
      "last_month_Unix 1622762082000\n",
      "last_month_Replace: 2021-06-03 00:00:00\n"
     ]
    }
   ],
   "source": [
    "#converting last month's date to unix time stamp\n",
    "last_month_unix_timestamp = int(last_month.timestamp()) * 1000\n",
    "print(\"last_month_Unix\",last_month_unix_timestamp)\n",
    "\n",
    "last_month_replace = last_month.replace(hour = 0, minute = 0, second = 0, microsecond = 0)\n",
    "print(\"last_month_Replace:\",last_month_replace)"
   ]
  },
  {
   "cell_type": "code",
   "execution_count": 9,
   "id": "47d4e9d4",
   "metadata": {},
   "outputs": [],
   "source": [
    "url = f\"https://api.spotify.com/v1/me/player/recently-played?after={last_month_unix_timestamp}\"\n",
    "r = requests.get(url, headers = headers)"
   ]
  },
  {
   "cell_type": "code",
   "execution_count": 10,
   "id": "826ecb19",
   "metadata": {},
   "outputs": [
    {
     "data": {
      "text/plain": [
       "{'error': {'status': 401, 'message': 'The access token expired'}}"
      ]
     },
     "execution_count": 10,
     "metadata": {},
     "output_type": "execute_result"
    }
   ],
   "source": [
    "data = r.json()\n",
    "data"
   ]
  },
  {
   "cell_type": "code",
   "execution_count": null,
   "id": "a6addcc9",
   "metadata": {},
   "outputs": [],
   "source": []
  }
 ],
 "metadata": {
  "kernelspec": {
   "display_name": "Python 3",
   "language": "python",
   "name": "python3"
  },
  "language_info": {
   "codemirror_mode": {
    "name": "ipython",
    "version": 3
   },
   "file_extension": ".py",
   "mimetype": "text/x-python",
   "name": "python",
   "nbconvert_exporter": "python",
   "pygments_lexer": "ipython3",
   "version": "3.9.2"
  }
 },
 "nbformat": 4,
 "nbformat_minor": 5
}
