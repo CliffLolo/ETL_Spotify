{
 "cells": [
  {
   "cell_type": "code",
   "execution_count": 1,
   "id": "618e5a13",
   "metadata": {},
   "outputs": [],
   "source": [
    "#importing necessary libraries\n",
    "import requests\n",
    "import json\n",
    "import pandas as pd\n",
    "from matplotlib import pyplot as plt\n",
    "import datetime\n",
    "from decouple import config\n",
    "from collections import Counter\n",
    "import sqlalchemy\n",
    "import sqlite3"
   ]
  },
  {
   "cell_type": "code",
   "execution_count": 2,
   "id": "2f912c61",
   "metadata": {},
   "outputs": [],
   "source": [
    "#data validation function\n",
    "def data_validation(df):\n",
    "    #checking if the dataframe is empty\n",
    "    if df.empty:\n",
    "        print('Yikes, No songs were downloaded')\n",
    "\n",
    "    #checking if there are duplicates\n",
    "    if pd.Series(df['played_at']).is_unique:\n",
    "        pass\n",
    "    else:\n",
    "        raise Exception(\"Yikes Primary Key check violated\")\n",
    "\n",
    "    #checking for nulls\n",
    "    if df.isnull().values.any():\n",
    "        raise Exception(\"Yike!!! Found Null values\")\n",
    "    \n",
    "    return True\n",
    "\n",
    "#function to calculate the frequencies\n",
    "# def frequencies(column_name):\n",
    "    \n",
    "#     print(Counter(songs_df[column_name].values))\n",
    "#     print(dict(Counter(songs_df[column_name].values).most_common(5)))\n",
    "    \n",
    "#     bar_plot = dict(Counter(songs_df[column_name].values).most_common(5))\n",
    "    \n",
    "#     plt.bar(*zip(*bar_plot.items()))\n",
    "#     plt.show()\n",
    "    \n",
    "    \n",
    "# plt.title('My title')\n",
    "# plt.xlabel('categories')\n",
    "# plt.ylabel('values')"
   ]
  },
  {
   "cell_type": "code",
   "execution_count": 3,
   "id": "882a3d4f",
   "metadata": {},
   "outputs": [],
   "source": [
    "headers = {\n",
    "    \"Accept\": \"application/json\",\n",
    "    \"Content-Type\": \"application/json\",\n",
    "    \"Authorization\": f\"Bearer {config('TOKEN')}\"\n",
    "}"
   ]
  },
  {
   "cell_type": "code",
   "execution_count": 4,
   "id": "fd8111a4",
   "metadata": {},
   "outputs": [
    {
     "name": "stdout",
     "output_type": "stream",
     "text": [
      "today: 2021-07-08 23:01:29.655568\n"
     ]
    }
   ],
   "source": [
    "#getting today's date\n",
    "today = datetime.datetime.now()\n",
    "print(\"today:\",today)"
   ]
  },
  {
   "cell_type": "code",
   "execution_count": 5,
   "id": "cd967b97",
   "metadata": {},
   "outputs": [
    {
     "name": "stdout",
     "output_type": "stream",
     "text": [
      "last_month 2021-06-08 23:01:29.655568\n"
     ]
    }
   ],
   "source": [
    "#getting last month's date\n",
    "last_month = today - datetime.timedelta(days=30)\n",
    "print(\"last_month\",last_month)"
   ]
  },
  {
   "cell_type": "code",
   "execution_count": 6,
   "id": "228e0fa1",
   "metadata": {},
   "outputs": [
    {
     "name": "stdout",
     "output_type": "stream",
     "text": [
      "last_month_Unix 1623193289000\n",
      "last_month_Replace: 2021-06-08 00:00:00\n"
     ]
    }
   ],
   "source": [
    "#converting last month's date to unix time stamp\n",
    "last_month_unix_timestamp = int(last_month.timestamp()) * 1000\n",
    "print(\"last_month_Unix\",last_month_unix_timestamp)\n",
    "\n",
    "last_month_replace = last_month.replace(hour = 0, minute = 0, second = 0, microsecond = 0)\n",
    "print(\"last_month_Replace:\",last_month_replace)"
   ]
  },
  {
   "cell_type": "code",
   "execution_count": 7,
   "id": "78bef555",
   "metadata": {},
   "outputs": [],
   "source": [
    "url = f\"https://api.spotify.com/v1/me/player/recently-played?after={last_month_unix_timestamp}\"\n",
    "r = requests.get(url, headers = headers)"
   ]
  },
  {
   "cell_type": "code",
   "execution_count": 8,
   "id": "94c11cd4",
   "metadata": {},
   "outputs": [],
   "source": [
    "data = r.json()"
   ]
  },
  {
   "cell_type": "code",
   "execution_count": 9,
   "id": "aacf0d3c",
   "metadata": {},
   "outputs": [],
   "source": [
    "song_names = []\n",
    "artiste_name = []\n",
    "played_at_list = []\n",
    "timestamps = []\n",
    "\n",
    "for song in data[\"items\"]:\n",
    "    song_names.append(song['track']['name'])\n",
    "    artiste_name.append(song['track']['album']['artists'][0]['name'])\n",
    "    played_at_list.append(song['played_at'])\n",
    "    timestamps.append(song['played_at'][0:10])"
   ]
  },
  {
   "cell_type": "code",
   "execution_count": 10,
   "id": "7cdea6c9",
   "metadata": {},
   "outputs": [
    {
     "name": "stdout",
     "output_type": "stream",
     "text": [
      "                                           song_names   artiste_name  \\\n",
      "0                                         Pretty Girl  Adekunle Gold   \n",
      "1                                                Okay  Adekunle Gold   \n",
      "2                                                Okay  Adekunle Gold   \n",
      "3                                                Okay  Adekunle Gold   \n",
      "4                                                Okay  Adekunle Gold   \n",
      "5                                                Okay  Adekunle Gold   \n",
      "6                                                Okay  Adekunle Gold   \n",
      "7                                                Okay  Adekunle Gold   \n",
      "8                                                Okay  Adekunle Gold   \n",
      "9                                                Okay  Adekunle Gold   \n",
      "10                                   It Is What It Is  Adekunle Gold   \n",
      "11                     Antidote (feat. Adekunle Gold)            Nao   \n",
      "12                                               Onye   Mercy Chinwo   \n",
      "13                                       No More Pain   Mercy Chinwo   \n",
      "14                                          Baby Song   Mercy Chinwo   \n",
      "15  Excess Love (feat. JJ Hairston & Youthful Prai...   Mercy Chinwo   \n",
      "16                                              Udeme   Mercy Chinwo   \n",
      "17                                           Obinasom   Mercy Chinwo   \n",
      "18                                           Oh Jesus   Mercy Chinwo   \n",
      "19                      Onememma (feat. Chioma Jesus)   Mercy Chinwo   \n",
      "\n",
      "                   played_at   timestamp  \n",
      "0   2021-07-08T16:34:38.228Z  2021-07-08  \n",
      "1   2021-07-08T16:31:30.951Z  2021-07-08  \n",
      "2   2021-07-08T16:29:33.378Z  2021-07-08  \n",
      "3   2021-07-08T16:29:22.516Z  2021-07-08  \n",
      "4   2021-07-08T16:27:49.913Z  2021-07-08  \n",
      "5   2021-07-08T16:24:43.128Z  2021-07-08  \n",
      "6   2021-07-08T16:24:19.507Z  2021-07-08  \n",
      "7   2021-07-08T16:24:01.515Z  2021-07-08  \n",
      "8   2021-07-08T16:21:34.962Z  2021-07-08  \n",
      "9   2021-07-08T16:18:13.717Z  2021-07-08  \n",
      "10  2021-07-08T16:15:06.956Z  2021-07-08  \n",
      "11  2021-07-08T16:12:11.875Z  2021-07-08  \n",
      "12  2021-07-08T16:06:42.213Z  2021-07-08  \n",
      "13  2021-07-08T16:02:28.535Z  2021-07-08  \n",
      "14  2021-07-08T15:57:27.951Z  2021-07-08  \n",
      "15  2021-07-08T15:53:27.906Z  2021-07-08  \n",
      "16  2021-07-08T15:44:59.856Z  2021-07-08  \n",
      "17  2021-07-08T15:28:58.601Z  2021-07-08  \n",
      "18  2021-07-08T15:23:57.281Z  2021-07-08  \n",
      "19  2021-07-08T15:17:15.207Z  2021-07-08  \n"
     ]
    }
   ],
   "source": [
    "songs_dict = {\n",
    "    \"song_names\":song_names,\n",
    "    \"artiste_name\":artiste_name,\n",
    "    \"played_at\":played_at_list,\n",
    "    \"timestamp\":timestamps\n",
    "}\n",
    "songs_df = pd.DataFrame(songs_dict)\n",
    "print(songs_df)"
   ]
  },
  {
   "cell_type": "code",
   "execution_count": 11,
   "id": "fdb08889",
   "metadata": {},
   "outputs": [
    {
     "name": "stdout",
     "output_type": "stream",
     "text": [
      "Data Validation Passed!\n"
     ]
    }
   ],
   "source": [
    "if data_validation(songs_df):\n",
    "    print(\"Data Validation Passed!\")"
   ]
  },
  {
   "cell_type": "code",
   "execution_count": 12,
   "id": "5e8270d7",
   "metadata": {},
   "outputs": [
    {
     "data": {
      "text/plain": [
       "(20, 4)"
      ]
     },
     "execution_count": 12,
     "metadata": {},
     "output_type": "execute_result"
    }
   ],
   "source": [
    "# viewing the number of rows and columns\n",
    "songs_df.shape"
   ]
  },
  {
   "cell_type": "code",
   "execution_count": 13,
   "id": "c9ef11e2",
   "metadata": {
    "scrolled": true
   },
   "outputs": [
    {
     "name": "stdout",
     "output_type": "stream",
     "text": [
      "<class 'pandas.core.frame.DataFrame'>\n",
      "RangeIndex: 20 entries, 0 to 19\n",
      "Data columns (total 4 columns):\n",
      " #   Column        Non-Null Count  Dtype \n",
      "---  ------        --------------  ----- \n",
      " 0   song_names    20 non-null     object\n",
      " 1   artiste_name  20 non-null     object\n",
      " 2   played_at     20 non-null     object\n",
      " 3   timestamp     20 non-null     object\n",
      "dtypes: object(4)\n",
      "memory usage: 768.0+ bytes\n"
     ]
    }
   ],
   "source": [
    "#viewing summary of a DataFrame\n",
    "songs_df.info()"
   ]
  },
  {
   "cell_type": "code",
   "execution_count": 14,
   "id": "319bf248",
   "metadata": {},
   "outputs": [
    {
     "data": {
      "text/html": [
       "<div>\n",
       "<style scoped>\n",
       "    .dataframe tbody tr th:only-of-type {\n",
       "        vertical-align: middle;\n",
       "    }\n",
       "\n",
       "    .dataframe tbody tr th {\n",
       "        vertical-align: top;\n",
       "    }\n",
       "\n",
       "    .dataframe thead th {\n",
       "        text-align: right;\n",
       "    }\n",
       "</style>\n",
       "<table border=\"1\" class=\"dataframe\">\n",
       "  <thead>\n",
       "    <tr style=\"text-align: right;\">\n",
       "      <th></th>\n",
       "      <th>song_names</th>\n",
       "      <th>artiste_name</th>\n",
       "      <th>played_at</th>\n",
       "      <th>timestamp</th>\n",
       "    </tr>\n",
       "  </thead>\n",
       "  <tbody>\n",
       "    <tr>\n",
       "      <th>count</th>\n",
       "      <td>20</td>\n",
       "      <td>20</td>\n",
       "      <td>20</td>\n",
       "      <td>20</td>\n",
       "    </tr>\n",
       "    <tr>\n",
       "      <th>unique</th>\n",
       "      <td>12</td>\n",
       "      <td>3</td>\n",
       "      <td>20</td>\n",
       "      <td>1</td>\n",
       "    </tr>\n",
       "    <tr>\n",
       "      <th>top</th>\n",
       "      <td>Okay</td>\n",
       "      <td>Adekunle Gold</td>\n",
       "      <td>2021-07-08T16:31:30.951Z</td>\n",
       "      <td>2021-07-08</td>\n",
       "    </tr>\n",
       "    <tr>\n",
       "      <th>freq</th>\n",
       "      <td>9</td>\n",
       "      <td>11</td>\n",
       "      <td>1</td>\n",
       "      <td>20</td>\n",
       "    </tr>\n",
       "  </tbody>\n",
       "</table>\n",
       "</div>"
      ],
      "text/plain": [
       "       song_names   artiste_name                 played_at   timestamp\n",
       "count          20             20                        20          20\n",
       "unique         12              3                        20           1\n",
       "top          Okay  Adekunle Gold  2021-07-08T16:31:30.951Z  2021-07-08\n",
       "freq            9             11                         1          20"
      ]
     },
     "execution_count": 14,
     "metadata": {},
     "output_type": "execute_result"
    }
   ],
   "source": [
    "#viewing some basic statistical details\n",
    "songs_df.describe()"
   ]
  },
  {
   "cell_type": "code",
   "execution_count": 15,
   "id": "3f19a88a",
   "metadata": {
    "scrolled": true
   },
   "outputs": [
    {
     "data": {
      "text/html": [
       "<div>\n",
       "<style scoped>\n",
       "    .dataframe tbody tr th:only-of-type {\n",
       "        vertical-align: middle;\n",
       "    }\n",
       "\n",
       "    .dataframe tbody tr th {\n",
       "        vertical-align: top;\n",
       "    }\n",
       "\n",
       "    .dataframe thead th {\n",
       "        text-align: right;\n",
       "    }\n",
       "</style>\n",
       "<table border=\"1\" class=\"dataframe\">\n",
       "  <thead>\n",
       "    <tr style=\"text-align: right;\">\n",
       "      <th></th>\n",
       "      <th>song_names</th>\n",
       "      <th>artiste_name</th>\n",
       "      <th>played_at</th>\n",
       "      <th>timestamp</th>\n",
       "    </tr>\n",
       "  </thead>\n",
       "  <tbody>\n",
       "    <tr>\n",
       "      <th>0</th>\n",
       "      <td>Pretty Girl</td>\n",
       "      <td>Adekunle Gold</td>\n",
       "      <td>2021-07-08T16:34:38.228Z</td>\n",
       "      <td>2021-07-08</td>\n",
       "    </tr>\n",
       "    <tr>\n",
       "      <th>1</th>\n",
       "      <td>Okay</td>\n",
       "      <td>Adekunle Gold</td>\n",
       "      <td>2021-07-08T16:31:30.951Z</td>\n",
       "      <td>2021-07-08</td>\n",
       "    </tr>\n",
       "    <tr>\n",
       "      <th>2</th>\n",
       "      <td>Okay</td>\n",
       "      <td>Adekunle Gold</td>\n",
       "      <td>2021-07-08T16:29:33.378Z</td>\n",
       "      <td>2021-07-08</td>\n",
       "    </tr>\n",
       "    <tr>\n",
       "      <th>3</th>\n",
       "      <td>Okay</td>\n",
       "      <td>Adekunle Gold</td>\n",
       "      <td>2021-07-08T16:29:22.516Z</td>\n",
       "      <td>2021-07-08</td>\n",
       "    </tr>\n",
       "    <tr>\n",
       "      <th>4</th>\n",
       "      <td>Okay</td>\n",
       "      <td>Adekunle Gold</td>\n",
       "      <td>2021-07-08T16:27:49.913Z</td>\n",
       "      <td>2021-07-08</td>\n",
       "    </tr>\n",
       "  </tbody>\n",
       "</table>\n",
       "</div>"
      ],
      "text/plain": [
       "    song_names   artiste_name                 played_at   timestamp\n",
       "0  Pretty Girl  Adekunle Gold  2021-07-08T16:34:38.228Z  2021-07-08\n",
       "1         Okay  Adekunle Gold  2021-07-08T16:31:30.951Z  2021-07-08\n",
       "2         Okay  Adekunle Gold  2021-07-08T16:29:33.378Z  2021-07-08\n",
       "3         Okay  Adekunle Gold  2021-07-08T16:29:22.516Z  2021-07-08\n",
       "4         Okay  Adekunle Gold  2021-07-08T16:27:49.913Z  2021-07-08"
      ]
     },
     "execution_count": 15,
     "metadata": {},
     "output_type": "execute_result"
    }
   ],
   "source": [
    "#returning the first 2 rows of the dataframe\n",
    "songs_df.head()"
   ]
  },
  {
   "cell_type": "markdown",
   "id": "8d4c86ff",
   "metadata": {},
   "source": [
    "## Which 5 songs did I listen to frequently?"
   ]
  },
  {
   "cell_type": "code",
   "execution_count": 16,
   "id": "3d752fbb",
   "metadata": {},
   "outputs": [
    {
     "name": "stdout",
     "output_type": "stream",
     "text": [
      "[('Okay', 9), ('Pretty Girl', 1), ('It Is What It Is', 1), ('Antidote (feat. Adekunle Gold)', 1), ('Onye', 1)]\n"
     ]
    }
   ],
   "source": [
    "print(Counter(songs_df['song_names'].values).most_common(5))"
   ]
  },
  {
   "cell_type": "code",
   "execution_count": 17,
   "id": "8c1cce9c",
   "metadata": {},
   "outputs": [
    {
     "data": {
      "image/png": "[encoded data removed]",
      "text/plain": [
       "<Figure size 432x288 with 1 Axes>"
      ]
     },
     "metadata": {
      "needs_background": "light"
     },
     "output_type": "display_data"
    }
   ],
   "source": [
    "bar_plot = dict(Counter(songs_df['song_names'].values).most_common(5))\n",
    "plt.bar(*zip(*bar_plot.items()))\n",
    "\n",
    "yint = []\n",
    "locs, labels = plt.yticks()\n",
    "for each in locs:\n",
    "    yint.append(int(each))\n",
    "    \n",
    "plt.yticks(yint)\n",
    "plt.title('Top 5 songs I listened to')\n",
    "plt.xlabel('song name')\n",
    "plt.ylabel('Number of times listened to')\n",
    "\n",
    "plt.show()"
   ]
  },
  {
   "cell_type": "markdown",
   "id": "29fccac9",
   "metadata": {},
   "source": [
    "## Who are the top 5 artistes I listened to?"
   ]
  },
  {
   "cell_type": "code",
   "execution_count": 18,
   "id": "efb7ed47",
   "metadata": {},
   "outputs": [
    {
     "data": {
      "image/png": "[encoded data removed]",
      "text/plain": [
       "<Figure size 432x288 with 1 Axes>"
      ]
     },
     "metadata": {
      "needs_background": "light"
     },
     "output_type": "display_data"
    }
   ],
   "source": [
    "bar_plot = dict(Counter(songs_df['artiste_name'].values).most_common(5))\n",
    "plt.bar(*zip(*bar_plot.items()))\n",
    "\n",
    "yint = []\n",
    "locs, labels = plt.yticks()\n",
    "for each in locs:\n",
    "    yint.append(int(each))\n",
    "    \n",
    "plt.yticks(yint)\n",
    "plt.title('Top 5 artistes I listened to')\n",
    "plt.xlabel('Artiste name')\n",
    "plt.ylabel('Number of times listened to')\n",
    "\n",
    "plt.show()"
   ]
  },
  {
   "cell_type": "markdown",
   "id": "38657b2c",
   "metadata": {},
   "source": [
    "## How many songs did I listen to at each period of time in the day?"
   ]
  },
  {
   "cell_type": "code",
   "execution_count": 19,
   "id": "9ecc313a",
   "metadata": {},
   "outputs": [],
   "source": [
    "#converting played_at column to a datetime object\n",
    "songs_df['played_at']=pd.to_datetime(songs_df['played_at'])\n",
    "\n",
    "#creating a new column, period\n",
    "songs_df['period'] = (songs_df['played_at'].dt.hour % 24 + 4) // 4\n",
    "songs_df['period'].replace({1: 'Late Night',\n",
    "                      2: 'Early Morning',\n",
    "                      3: 'Morning',\n",
    "                      4: 'Noon',\n",
    "                      5: 'Evening',\n",
    "                      6: 'Night'}, inplace=True)"
   ]
  },
  {
   "cell_type": "code",
   "execution_count": 20,
   "id": "271b4564",
   "metadata": {},
   "outputs": [
    {
     "data": {
      "text/html": [
       "<div>\n",
       "<style scoped>\n",
       "    .dataframe tbody tr th:only-of-type {\n",
       "        vertical-align: middle;\n",
       "    }\n",
       "\n",
       "    .dataframe tbody tr th {\n",
       "        vertical-align: top;\n",
       "    }\n",
       "\n",
       "    .dataframe thead th {\n",
       "        text-align: right;\n",
       "    }\n",
       "</style>\n",
       "<table border=\"1\" class=\"dataframe\">\n",
       "  <thead>\n",
       "    <tr style=\"text-align: right;\">\n",
       "      <th></th>\n",
       "      <th>song_names</th>\n",
       "      <th>artiste_name</th>\n",
       "      <th>played_at</th>\n",
       "      <th>timestamp</th>\n",
       "      <th>period</th>\n",
       "    </tr>\n",
       "  </thead>\n",
       "  <tbody>\n",
       "    <tr>\n",
       "      <th>0</th>\n",
       "      <td>Pretty Girl</td>\n",
       "      <td>Adekunle Gold</td>\n",
       "      <td>2021-07-08 16:34:38.228000+00:00</td>\n",
       "      <td>2021-07-08</td>\n",
       "      <td>Evening</td>\n",
       "    </tr>\n",
       "    <tr>\n",
       "      <th>1</th>\n",
       "      <td>Okay</td>\n",
       "      <td>Adekunle Gold</td>\n",
       "      <td>2021-07-08 16:31:30.951000+00:00</td>\n",
       "      <td>2021-07-08</td>\n",
       "      <td>Evening</td>\n",
       "    </tr>\n",
       "    <tr>\n",
       "      <th>2</th>\n",
       "      <td>Okay</td>\n",
       "      <td>Adekunle Gold</td>\n",
       "      <td>2021-07-08 16:29:33.378000+00:00</td>\n",
       "      <td>2021-07-08</td>\n",
       "      <td>Evening</td>\n",
       "    </tr>\n",
       "    <tr>\n",
       "      <th>3</th>\n",
       "      <td>Okay</td>\n",
       "      <td>Adekunle Gold</td>\n",
       "      <td>2021-07-08 16:29:22.516000+00:00</td>\n",
       "      <td>2021-07-08</td>\n",
       "      <td>Evening</td>\n",
       "    </tr>\n",
       "    <tr>\n",
       "      <th>4</th>\n",
       "      <td>Okay</td>\n",
       "      <td>Adekunle Gold</td>\n",
       "      <td>2021-07-08 16:27:49.913000+00:00</td>\n",
       "      <td>2021-07-08</td>\n",
       "      <td>Evening</td>\n",
       "    </tr>\n",
       "  </tbody>\n",
       "</table>\n",
       "</div>"
      ],
      "text/plain": [
       "    song_names   artiste_name                        played_at   timestamp  \\\n",
       "0  Pretty Girl  Adekunle Gold 2021-07-08 16:34:38.228000+00:00  2021-07-08   \n",
       "1         Okay  Adekunle Gold 2021-07-08 16:31:30.951000+00:00  2021-07-08   \n",
       "2         Okay  Adekunle Gold 2021-07-08 16:29:33.378000+00:00  2021-07-08   \n",
       "3         Okay  Adekunle Gold 2021-07-08 16:29:22.516000+00:00  2021-07-08   \n",
       "4         Okay  Adekunle Gold 2021-07-08 16:27:49.913000+00:00  2021-07-08   \n",
       "\n",
       "    period  \n",
       "0  Evening  \n",
       "1  Evening  \n",
       "2  Evening  \n",
       "3  Evening  \n",
       "4  Evening  "
      ]
     },
     "execution_count": 20,
     "metadata": {},
     "output_type": "execute_result"
    }
   ],
   "source": [
    "songs_df.head()"
   ]
  },
  {
   "cell_type": "code",
   "execution_count": 21,
   "id": "12100ba1",
   "metadata": {},
   "outputs": [
    {
     "data": {
      "image/png": "[encoded data removed]",
      "text/plain": [
       "<Figure size 432x288 with 1 Axes>"
      ]
     },
     "metadata": {
      "needs_background": "light"
     },
     "output_type": "display_data"
    }
   ],
   "source": [
    "bar_plot = dict(Counter(songs_df['period'].values))\n",
    "plt.bar(*zip(*bar_plot.items()))\n",
    "\n",
    "yint = []\n",
    "locs, labels = plt.yticks()\n",
    "for each in locs:\n",
    "    yint.append(int(each))\n",
    "    \n",
    "plt.yticks(yint)\n",
    "plt.title('How many songs did I listen to at each period of time in the day?')\n",
    "plt.xlabel('Period')\n",
    "plt.ylabel('Number of songs')\n",
    "\n",
    "plt.show()"
   ]
  },
  {
   "cell_type": "code",
   "execution_count": 23,
   "id": "56d9b6e7",
   "metadata": {},
   "outputs": [
    {
     "name": "stdout",
     "output_type": "stream",
     "text": [
      "Opened database successfully\n",
      "Table created successfully\n"
     ]
    }
   ],
   "source": [
    "# creating engine and connecting to database\n",
    "engine = sqlalchemy.create_engine('sqlite:///my_songs.db') \n",
    "conn = sqlite3.connect('my_songs.db')\n",
    "\n",
    "print (\"Opened database successfully\")\n",
    "\n",
    "# creating the table with the columns\n",
    "conn.execute(\"\"\"\n",
    "CREATE TABLE IF NOT EXISTS my_songs(\n",
    "    song_name VARCHAR(200),\n",
    "    artist_name VARCHAR(200),\n",
    "    played_at VARCHAR(200),\n",
    "    timestamp VARCHAR(200),\n",
    "    period VARCHAR(20),\n",
    "    CONSTRAINT primary_key_constraint PRIMARY KEY (played_at)\n",
    ")\n",
    "\"\"\")\n",
    "print(\"Table created successfully\")\n",
    "\n",
    "conn.close()"
   ]
  },
  {
   "cell_type": "code",
   "execution_count": 25,
   "id": "b6509dd6",
   "metadata": {},
   "outputs": [
    {
     "name": "stdout",
     "output_type": "stream",
     "text": [
      "Ooops! Data already exists in the database \n"
     ]
    }
   ],
   "source": [
    "try:\n",
    "    songs_df.to_sql('my_songs',engine,index=False, if_exists='append')\n",
    "except:\n",
    "    print(\"Ooops! Data already exists in the database \")"
   ]
  }
 ],
 "metadata": {
  "kernelspec": {
   "display_name": "Python 3",
   "language": "python",
   "name": "python3"
  },
  "language_info": {
   "codemirror_mode": {
    "name": "ipython",
    "version": 3
   },
   "file_extension": ".py",
   "mimetype": "text/x-python",
   "name": "python",
   "nbconvert_exporter": "python",
   "pygments_lexer": "ipython3",
   "version": "3.9.2"
  }
 },
 "nbformat": 4,
 "nbformat_minor": 5
}
