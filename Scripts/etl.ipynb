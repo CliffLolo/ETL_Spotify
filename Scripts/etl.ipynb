{
 "cells": [
  {
   "cell_type": "code",
   "execution_count": 1,
   "id": "3bf6b224",
   "metadata": {},
   "outputs": [],
   "source": [
    "#importing necessary libraries\n",
    "import requests\n",
    "import json\n",
    "import pandas as pd\n",
    "import datetime\n",
    "from decouple import config"
   ]
  },
  {
   "cell_type": "code",
   "execution_count": 3,
   "id": "f77ef9fe",
   "metadata": {},
   "outputs": [],
   "source": [
    "def data_validation(df):\n",
    "    #checking if the dataframe is empty\n",
    "    if df.empty:\n",
    "        print('Yikes, No songs were downloaded')\n",
    "\n",
    "    #checking if there are duplicates\n",
    "    if pd.Series(df['played_at']).is_unique:\n",
    "        pass\n",
    "    else:\n",
    "        raise Exception(\"Yikes Primary Key check violated\")\n",
    "\n",
    "    #checking for nulls\n",
    "    if df.isnull().values.any():\n",
    "        raise Exception(\"Yike!!! Found Null values\")\n",
    "    \n",
    "    return True"
   ]
  },
  {
   "cell_type": "code",
   "execution_count": null,
   "id": "72982fc4",
   "metadata": {},
   "outputs": [],
   "source": []
  }
 ],
 "metadata": {
  "kernelspec": {
   "display_name": "Python 3",
   "language": "python",
   "name": "python3"
  },
  "language_info": {
   "codemirror_mode": {
    "name": "ipython",
    "version": 3
   },
   "file_extension": ".py",
   "mimetype": "text/x-python",
   "name": "python",
   "nbconvert_exporter": "python",
   "pygments_lexer": "ipython3",
   "version": "3.9.2"
  }
 },
 "nbformat": 4,
 "nbformat_minor": 5
}
